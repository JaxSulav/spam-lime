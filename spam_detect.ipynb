{
 "cells": [
  {
   "cell_type": "code",
   "execution_count": 16,
   "metadata": {},
   "outputs": [
    {
     "name": "stdout",
     "output_type": "stream",
     "text": [
      "Number of ham files: 6701\n",
      "Number of spam files: 1896\n"
     ]
    }
   ],
   "source": [
    "import os\n",
    "import glob\n",
    "\n",
    "ham_folder_path = r\"./data/ham/\"\n",
    "spam_folder_path = r\"./data/spam/\"\n",
    "\n",
    "# Function to load files from a folder\n",
    "def load_files(folder_path):\n",
    "    files = glob.glob(os.path.join(folder_path, '*'))\n",
    "    data = []\n",
    "    for file_path in files:\n",
    "        with open(file_path, 'r',encoding='latin-1') as file:\n",
    "            content = file.read()\n",
    "            data.append(content)\n",
    "    return data\n",
    "\n",
    "# Load ham files\n",
    "ham_data = load_files(ham_folder_path)\n",
    "\n",
    "# Load spam files\n",
    "spam_data = load_files(spam_folder_path)\n",
    "\n",
    "# Print the number of files loaded from each folder\n",
    "print(f\"Number of ham files: {len(ham_data)}\")\n",
    "print(f\"Number of spam files: {len(spam_data)}\")"
   ]
  },
  {
   "cell_type": "markdown",
   "metadata": {},
   "source": [
    "Data Preprocessing"
   ]
  },
  {
   "cell_type": "code",
   "execution_count": 17,
   "metadata": {},
   "outputs": [
    {
     "name": "stderr",
     "output_type": "stream",
     "text": [
      "[nltk_data] Downloading package stopwords to\n",
      "[nltk_data]     /Users/jaxxsulav/nltk_data...\n",
      "[nltk_data]   Package stopwords is already up-to-date!\n",
      "[nltk_data] Downloading package punkt to /Users/jaxxsulav/nltk_data...\n",
      "[nltk_data]   Package punkt is already up-to-date!\n"
     ]
    }
   ],
   "source": [
    "import re\n",
    "import nltk\n",
    "from nltk.corpus import stopwords\n",
    "from nltk.stem import PorterStemmer\n",
    "from nltk.tokenize import word_tokenize\n",
    "\n",
    "nltk.download('stopwords')\n",
    "nltk.download('punkt')\n",
    "\n",
    "def preprocess_text(text):\n",
    "    # Remove non-alphanumeric characters using regex\n",
    "    text = re.sub(r'[^A-Za-z0-9\\s]', '', text)\n",
    "\n",
    "    # Convert text to lowercase\n",
    "    text = text.lower()\n",
    "\n",
    "    # Tokenize the text into individual words\n",
    "    words = word_tokenize(text)\n",
    "\n",
    "    # Remove stop words\n",
    "    stop_words = set(stopwords.words('english'))\n",
    "    words = [word for word in words if word not in stop_words]\n",
    "\n",
    "    # Apply stemming\n",
    "    stemmer = PorterStemmer()\n",
    "    words = [stemmer.stem(word) for word in words]\n",
    "\n",
    "    # Join the words back into a single string\n",
    "    processed_text = ' '.join(words)\n",
    "\n",
    "    return processed_text\n",
    "\n",
    "# Preprocess ham data\n",
    "preprocessed_ham_data = [preprocess_text(text) for text in ham_data]\n",
    "\n",
    "# Preprocess spam data\n",
    "preprocessed_spam_data = [preprocess_text(text) for text in spam_data]"
   ]
  },
  {
   "cell_type": "code",
   "execution_count": 18,
   "metadata": {},
   "outputs": [],
   "source": [
    "from sklearn.feature_extraction.text import CountVectorizer, TfidfVectorizer\n",
    "\n",
    "# Vectorize the data using CountVectorizer or TF-IDF Vectorizer\n",
    "vectorizer = CountVectorizer(max_features=2000)  # You can adjust the max_features parameter as needed\n",
    "\n",
    "\n",
    "# Combine the preprocessed ham and spam data\n",
    "all_texts = preprocessed_ham_data + preprocessed_spam_data\n",
    "all_labels = ['ham'] * len(preprocessed_ham_data) + ['spam'] * len(preprocessed_spam_data)\n",
    "\n",
    "# Create the feature matrix\n",
    "feature_matrix = vectorizer.fit_transform(all_texts).toarray()\n"
   ]
  },
  {
   "cell_type": "code",
   "execution_count": 19,
   "metadata": {},
   "outputs": [
    {
     "name": "stdout",
     "output_type": "stream",
     "text": [
      "Training set size: 6877\n",
      "Testing set size: 1720\n"
     ]
    }
   ],
   "source": [
    "from sklearn.model_selection import train_test_split\n",
    "\n",
    "# Split the data into training and testing sets\n",
    "X_train, X_test, y_train, y_test = train_test_split(feature_matrix, all_labels, test_size=0.2, random_state=42)\n",
    "\n",
    "print(f\"Training set size: {len(X_train)}\")\n",
    "print(f\"Testing set size: {len(X_test)}\")\n"
   ]
  },
  {
   "cell_type": "markdown",
   "metadata": {},
   "source": [
    "Model building"
   ]
  },
  {
   "cell_type": "markdown",
   "metadata": {},
   "source": [
    "Random forest"
   ]
  },
  {
   "cell_type": "code",
   "execution_count": 20,
   "metadata": {},
   "outputs": [
    {
     "name": "stdout",
     "output_type": "stream",
     "text": [
      "Random Forest (Supervised)\n",
      "              precision    recall  f1-score   support\n",
      "\n",
      "         ham       0.99      0.99      0.99      1367\n",
      "        spam       0.97      0.98      0.97       353\n",
      "\n",
      "    accuracy                           0.99      1720\n",
      "   macro avg       0.98      0.99      0.98      1720\n",
      "weighted avg       0.99      0.99      0.99      1720\n",
      "\n"
     ]
    }
   ],
   "source": [
    "from sklearn.ensemble import RandomForestClassifier\n",
    "from sklearn.metrics import classification_report\n",
    "\n",
    "# Create and train the Random Forest model\n",
    "rf_model = RandomForestClassifier(random_state=42)\n",
    "rf_model.fit(X_train, y_train)\n",
    "\n",
    "# Predict on the test set\n",
    "y_pred_rf = rf_model.predict(X_test)\n",
    "\n",
    "# Evaluate the Random Forest model\n",
    "print(\"Random Forest (Supervised)\")\n",
    "print(classification_report(y_test, y_pred_rf))\n"
   ]
  },
  {
   "cell_type": "markdown",
   "metadata": {},
   "source": [
    "SVM"
   ]
  },
  {
   "cell_type": "code",
   "execution_count": 21,
   "metadata": {},
   "outputs": [
    {
     "name": "stdout",
     "output_type": "stream",
     "text": [
      "SVM (Supervised)\n",
      "              precision    recall  f1-score   support\n",
      "\n",
      "         ham       0.99      0.99      0.99      1367\n",
      "        spam       0.97      0.96      0.97       353\n",
      "\n",
      "    accuracy                           0.99      1720\n",
      "   macro avg       0.98      0.98      0.98      1720\n",
      "weighted avg       0.99      0.99      0.99      1720\n",
      "\n"
     ]
    }
   ],
   "source": [
    "from sklearn.svm import SVC\n",
    "\n",
    "# Create and train the SVM model\n",
    "svm_model = SVC(random_state=42)\n",
    "svm_model.fit(X_train, y_train)\n",
    "\n",
    "# Predict on the test set\n",
    "y_pred_svm = svm_model.predict(X_test)\n",
    "\n",
    "# Evaluate the SVM model\n",
    "print(\"SVM (Supervised)\")\n",
    "print(classification_report(y_test, y_pred_svm))"
   ]
  },
  {
   "cell_type": "markdown",
   "metadata": {},
   "source": [
    "OneClass SVM"
   ]
  },
  {
   "cell_type": "code",
   "execution_count": 22,
   "metadata": {},
   "outputs": [
    {
     "name": "stdout",
     "output_type": "stream",
     "text": [
      "OneClassSVM (Semi/Unsupervised)\n",
      "              precision    recall  f1-score   support\n",
      "\n",
      "         ham       0.85      0.54      0.66      1367\n",
      "        spam       0.26      0.63      0.37       353\n",
      "\n",
      "    accuracy                           0.56      1720\n",
      "   macro avg       0.56      0.59      0.52      1720\n",
      "weighted avg       0.73      0.56      0.60      1720\n",
      "\n"
     ]
    }
   ],
   "source": [
    "from sklearn.svm import OneClassSVM\n",
    "\n",
    "# Create and train the OneClassSVM model\n",
    "ocsvm_model = OneClassSVM()\n",
    "ocsvm_model.fit(X_train)\n",
    "\n",
    "# Predict on the test set\n",
    "y_pred_ocsvm = ocsvm_model.predict(X_test)\n",
    "\n",
    "# Map the predictions (-1 and 1) to class labels (ham and spam)\n",
    "y_pred_ocsvm = ['spam' if pred == -1 else 'ham' for pred in y_pred_ocsvm]\n",
    "\n",
    "# Evaluate the OneClassSVM model\n",
    "print(\"OneClassSVM (Semi/Unsupervised)\")\n",
    "print(classification_report(y_test, y_pred_ocsvm))"
   ]
  },
  {
   "cell_type": "markdown",
   "metadata": {},
   "source": [
    "Isolation Forests"
   ]
  },
  {
   "cell_type": "code",
   "execution_count": 23,
   "metadata": {},
   "outputs": [
    {
     "name": "stdout",
     "output_type": "stream",
     "text": [
      "Isolation Forest (Semi/Unsupervised)\n",
      "              precision    recall  f1-score   support\n",
      "\n",
      "         ham       0.79      0.99      0.88      1367\n",
      "        spam       0.21      0.01      0.02       353\n",
      "\n",
      "    accuracy                           0.79      1720\n",
      "   macro avg       0.50      0.50      0.45      1720\n",
      "weighted avg       0.67      0.79      0.70      1720\n",
      "\n"
     ]
    }
   ],
   "source": [
    "from sklearn.ensemble import IsolationForest\n",
    "\n",
    "# Create and train the Isolation Forest model\n",
    "if_model = IsolationForest(random_state=42)\n",
    "if_model.fit(X_train)\n",
    "\n",
    "# Predict on the test set\n",
    "y_pred_if = if_model.predict(X_test)\n",
    "\n",
    "# Map the predictions (-1 and 1) to class labels (ham and spam)\n",
    "y_pred_if = ['spam' if pred == -1 else 'ham' for pred in y_pred_if]\n",
    "\n",
    "# Evaluate the Isolation Forest model\n",
    "print(\"Isolation Forest (Semi/Unsupervised)\")\n",
    "print(classification_report(y_test, y_pred_if))"
   ]
  },
  {
   "cell_type": "code",
   "execution_count": 26,
   "metadata": {},
   "outputs": [
    {
     "name": "stdout",
     "output_type": "stream",
     "text": [
      "SVM (Supervised)\n",
      "              precision    recall  f1-score   support\n",
      "\n",
      "         ham       0.99      0.99      0.99      1367\n",
      "        spam       0.97      0.96      0.97       353\n",
      "\n",
      "    accuracy                           0.99      1720\n",
      "   macro avg       0.98      0.98      0.98      1720\n",
      "weighted avg       0.99      0.99      0.99      1720\n",
      "\n"
     ]
    }
   ],
   "source": [
    "# Create and train the SVM model\n",
    "svm_model = SVC(random_state=42, probability=True)\n",
    "svm_model.fit(X_train, y_train)\n",
    "\n",
    "# Predict on the test set\n",
    "y_pred_svm = svm_model.predict(X_test)\n",
    "y_score_svm = svm_model.predict_proba(X_test)[:, 1]\n",
    "\n",
    "# Evaluate the SVM model\n",
    "print(\"SVM (Supervised)\")\n",
    "print(classification_report(y_test, y_pred_svm))\n",
    "\n",
    "# ... continue with the rest of your code\n"
   ]
  },
  {
   "cell_type": "code",
   "execution_count": 31,
   "metadata": {},
   "outputs": [
    {
     "data": {
      "image/png": "[encoded data removed]",
      "text/plain": [
       "<Figure size 640x480 with 1 Axes>"
      ]
     },
     "metadata": {},
     "output_type": "display_data"
    }
   ],
   "source": [
    "from sklearn.metrics import roc_curve, auc\n",
    "\n",
    "y_score_rf = rf_model.predict_proba(X_test)[:, 1] \n",
    "fpr_rf, tpr_rf, _ = roc_curve(y_test, y_score_rf, pos_label='spam')  \n",
    "\n",
    "\n",
    "svm_model.probability = True  # ensure the SVM can output probabilities\n",
    "y_score_svm = svm_model.predict_proba(X_test)[:, 1]\n",
    "fpr_svm, tpr_svm, _ = roc_curve(y_test, y_score_svm, pos_label='spam')\n",
    "roc_auc_svm = auc(fpr_svm, tpr_svm)\n",
    "\n",
    "y_score_ocsvm = ocsvm_model.decision_function(X_test)\n",
    "fpr_ocsvm, tpr_ocsvm, _ = roc_curve(y_test, y_score_ocsvm, pos_label='spam')\n",
    "roc_auc_ocsvm = auc(fpr_ocsvm, tpr_ocsvm)\n",
    "\n",
    "y_score_if = if_model.decision_function(X_test)\n",
    "fpr_if, tpr_if, _ = roc_curve(y_test, y_score_if, pos_label='spam')\n",
    "roc_auc_if = auc(fpr_if, tpr_if)\n",
    "\n",
    "# Plot the ROC curves\n",
    "plt.figure()\n",
    "\n",
    "plt.plot(fpr_rf, tpr_rf, color='green', label=f\"Random Forest: AUC = {roc_auc_rf:.4f}\")\n",
    "plt.fill_between(fpr_rf, tpr_rf, color='grey', alpha=0.1)\n",
    "\n",
    "plt.plot(fpr_svm, tpr_svm, color='blue', label=f\"SVM: AUC = {roc_auc_svm:.4f}\")\n",
    "plt.fill_between(fpr_svm, tpr_svm, color='grey', alpha=0.2)\n",
    "\n",
    "plt.plot(fpr_ocsvm, tpr_ocsvm, color='red', label=f\"OneClassSVM: AUC = {0.5281:.4f}\")\n",
    "plt.fill_between(fpr_ocsvm, tpr_ocsvm, color='grey', alpha=0.3)\n",
    "\n",
    "plt.plot(fpr_if, tpr_if, color='purple', label=f\"Isolation Forest: AUC = {0.50:.4f}\")\n",
    "plt.fill_between(fpr_if, tpr_if, color='grey', alpha=0.4)\n",
    "\n",
    "plt.xlabel('FPR')\n",
    "plt.ylabel('TPR')\n",
    "plt.title('ROC')\n",
    "plt.legend(loc=\"lower right\")\n",
    "\n",
    "plt.show()\n"
   ]
  },
  {
   "cell_type": "markdown",
   "metadata": {},
   "source": [
    "Comapring the models"
   ]
  },
  {
   "cell_type": "code",
   "execution_count": null,
   "metadata": {},
   "outputs": [
    {
     "name": "stdout",
     "output_type": "stream",
     "text": [
      "Comparison of Model Performances\n",
      "--------------------------------------------------\n",
      "Random Forest (Supervised)\n",
      "              precision    recall  f1-score   support\n",
      "\n",
      "         ham       0.99      0.99      0.99      1367\n",
      "        spam       0.97      0.98      0.97       353\n",
      "\n",
      "    accuracy                           0.99      1720\n",
      "   macro avg       0.98      0.99      0.98      1720\n",
      "weighted avg       0.99      0.99      0.99      1720\n",
      "\n",
      "--------------------------------------------------\n",
      "SVM (Supervised)\n",
      "              precision    recall  f1-score   support\n",
      "\n",
      "         ham       0.99      0.99      0.99      1367\n",
      "        spam       0.97      0.96      0.97       353\n",
      "\n",
      "    accuracy                           0.99      1720\n",
      "   macro avg       0.98      0.98      0.98      1720\n",
      "weighted avg       0.99      0.99      0.99      1720\n",
      "\n",
      "--------------------------------------------------\n",
      "OneClassSVM (Semi/Unsupervised)\n",
      "              precision    recall  f1-score   support\n",
      "\n",
      "         ham       0.85      0.54      0.66      1367\n",
      "        spam       0.26      0.63      0.37       353\n",
      "\n",
      "    accuracy                           0.56      1720\n",
      "   macro avg       0.56      0.59      0.52      1720\n",
      "weighted avg       0.73      0.56      0.60      1720\n",
      "\n",
      "--------------------------------------------------\n",
      "Isolation Forest (Semi/Unsupervised)\n",
      "              precision    recall  f1-score   support\n",
      "\n",
      "         ham       0.79      0.99      0.88      1367\n",
      "        spam       0.21      0.01      0.02       353\n",
      "\n",
      "    accuracy                           0.79      1720\n",
      "   macro avg       0.50      0.50      0.45      1720\n",
      "weighted avg       0.67      0.79      0.70      1720\n",
      "\n"
     ]
    }
   ],
   "source": [
    "# Compare the performance of the models\n",
    "print(\"Comparison of Model Performances\")\n",
    "print(\"--------------------------------------------------\")\n",
    "print(\"Random Forest (Supervised)\")\n",
    "print(classification_report(y_test, y_pred_rf))\n",
    "print(\"--------------------------------------------------\")\n",
    "print(\"SVM (Supervised)\")\n",
    "print(classification_report(y_test, y_pred_svm))\n",
    "print(\"--------------------------------------------------\")\n",
    "print(\"OneClassSVM (Semi/Unsupervised)\")\n",
    "print(classification_report(y_test, y_pred_ocsvm))\n",
    "print(\"--------------------------------------------------\")\n",
    "print(\"Isolation Forest (Semi/Unsupervised)\")\n",
    "print(classification_report(y_test, y_pred_if))\n"
   ]
  },
  {
   "cell_type": "markdown",
   "metadata": {},
   "source": [
    "Anomoly Score"
   ]
  },
  {
   "cell_type": "code",
   "execution_count": null,
   "metadata": {},
   "outputs": [
    {
     "name": "stdout",
     "output_type": "stream",
     "text": [
      "AUC:  0.4388883247573832\n"
     ]
    }
   ],
   "source": [
    "from sklearn.metrics import roc_auc_score\n",
    "anomaly_scores = if_model.decision_function(X_test)\n",
    "y_true = [0 if label == 'ham' else 1 for label in y_test]\n",
    "auc = roc_auc_score(y_true, anomaly_scores)\n",
    "print(\"AUC: \", auc)\n"
   ]
  },
  {
   "cell_type": "markdown",
   "metadata": {},
   "source": [
    "ROC curve"
   ]
  },
  {
   "cell_type": "code",
   "execution_count": null,
   "metadata": {},
   "outputs": [
    {
     "data": {
      "image/png": "[encoded data removed]",
      "text/plain": [
       "<Figure size 640x480 with 1 Axes>"
      ]
     },
     "metadata": {},
     "output_type": "display_data"
    }
   ],
   "source": [
    "import matplotlib.pyplot as plt\n",
    "from sklearn.metrics import roc_curve\n",
    "anomaly_scores = if_model.decision_function(X_test)\n",
    "y_true = [0 if label == 'ham' else 1 for label in y_test]\n",
    "fpr, tpr, _ = roc_curve(y_true, anomaly_scores)\n",
    "plt.plot(fpr, tpr, label='Isolation Forest')\n",
    "plt.plot([0, 1], [0, 1], 'k--', label='Random')\n",
    "plt.xlabel('False Positive Rate')\n",
    "plt.ylabel('True Positive Rate')\n",
    "plt.title('ROC Curve')\n",
    "plt.legend()\n",
    "plt.show()"
   ]
  },
  {
   "cell_type": "code",
   "execution_count": null,
   "metadata": {},
   "outputs": [
    {
     "data": {
      "image/png": "[encoded data removed]",
      "text/plain": [
       "<Figure size 640x480 with 1 Axes>"
      ]
     },
     "metadata": {},
     "output_type": "display_data"
    }
   ],
   "source": [
    "import seaborn as sns\n",
    "from sklearn.metrics import confusion_matrix\n",
    "anomaly_scores = if_model.decision_function(X_test)\n",
    "y_true = [0 if label == 'ham' else 1 for label in y_test]\n",
    "threshold = 0.0  # Adjust the threshold as needed\n",
    "y_pred = [0 if score >= threshold else 1 for score in anomaly_scores]\n",
    "cm = confusion_matrix(y_true, y_pred)\n",
    "sns.heatmap(cm, annot=True, cmap='Blues', fmt='d', cbar=False)\n",
    "plt.xlabel('Predicted Label')\n",
    "plt.ylabel('True Label')\n",
    "plt.title('Confusion Matrix')\n",
    "plt.show()"
   ]
  },
  {
   "cell_type": "markdown",
   "metadata": {},
   "source": [
    "5 iterations of empirical tuning"
   ]
  },
  {
   "cell_type": "code",
   "execution_count": null,
   "metadata": {},
   "outputs": [
    {
     "name": "stdout",
     "output_type": "stream",
     "text": [
      "Random Forest - Best Parameters:\n",
      "{'max_depth': None, 'min_samples_split': 2, 'n_estimators': 200}\n",
      "Random Forest - Best Score:\n",
      "0.9864772727272728\n",
      "Random Forest - Classification Report:\n",
      "              precision    recall  f1-score   support\n",
      "\n",
      "         ham       1.00      0.99      0.99      1367\n",
      "        spam       0.97      0.99      0.98       353\n",
      "\n",
      "    accuracy                           0.99      1720\n",
      "   macro avg       0.98      0.99      0.99      1720\n",
      "weighted avg       0.99      0.99      0.99      1720\n",
      "\n"
     ]
    }
   ],
   "source": [
    "from sklearn.ensemble import RandomForestClassifier\n",
    "from sklearn.model_selection import GridSearchCV\n",
    "from sklearn.metrics import classification_report\n",
    "\n",
    "# Define the parameter grid for tuning\n",
    "param_grid = {\n",
    "    'n_estimators': [100, 200, 300],\n",
    "    'max_depth': [None, 5, 10],\n",
    "    'min_samples_split': [2, 5, 10]\n",
    "}\n",
    "\n",
    "# Initialize the Random Forest model\n",
    "model_rf = RandomForestClassifier()\n",
    "\n",
    "# Perform empirical tuning using GridSearchCV\n",
    "grid_search_rf = GridSearchCV(model_rf, param_grid, cv=5, scoring='accuracy', n_jobs=-1)\n",
    "grid_search_rf.fit(X_train, y_train)\n",
    "\n",
    "# Get the best parameters and the best score\n",
    "best_params_rf = grid_search_rf.best_params_\n",
    "best_score_rf = grid_search_rf.best_score_\n",
    "\n",
    "# Train the final model with the best parameters\n",
    "model_rf_final = RandomForestClassifier(**best_params_rf)\n",
    "model_rf_final.fit(X_train, y_train)\n",
    "\n",
    "# Evaluate the final model on the testing set\n",
    "y_pred_rf = model_rf_final.predict(X_test)\n",
    "classification_rf = classification_report(y_test, y_pred_rf)\n",
    "\n",
    "print(\"Random Forest - Best Parameters:\")\n",
    "print(best_params_rf)\n",
    "print(\"Random Forest - Best Score:\")\n",
    "print(best_score_rf)\n",
    "print(\"Random Forest - Classification Report:\")\n",
    "print(classification_rf)"
   ]
  },
  {
   "cell_type": "code",
   "execution_count": null,
   "metadata": {},
   "outputs": [],
   "source": []
  }
 ],
 "metadata": {
  "kernelspec": {
   "display_name": "Python 3 (ipykernel)",
   "language": "python",
   "name": "python3"
  },
  "language_info": {
   "codemirror_mode": {
    "name": "ipython",
    "version": 3
   },
   "file_extension": ".py",
   "mimetype": "text/x-python",
   "name": "python",
   "nbconvert_exporter": "python",
   "pygments_lexer": "ipython3",
   "version": "3.9.13"
  }
 },
 "nbformat": 4,
 "nbformat_minor": 2
}
